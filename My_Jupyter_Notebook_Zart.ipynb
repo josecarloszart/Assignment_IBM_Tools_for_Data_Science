{
 "cells": [
  {
   "cell_type": "markdown",
   "metadata": {},
   "source": [
    "<center>\n",
    "    <img src=\"https://cf-courses-data.s3.us.cloud-object-storage.appdomain.cloud/IBMDeveloperSkillsNetwork-DS0105EN-SkillsNetwork/labs/Module2/images/SN_web_lightmode.png\" width=\"300\" alt=\"cognitiveclass.ai logo\">\n",
    "</center>\n"
   ]
  },
  {
   "cell_type": "markdown",
   "metadata": {},
   "source": [
    "#### Add your code below following the instructions given in the course\n"
   ]
  },
  {
   "cell_type": "markdown",
   "metadata": {},
   "source": [
    "# My Jupyter Notebook on IBM Watson Studio"
   ]
  },
  {
   "cell_type": "markdown",
   "metadata": {},
   "source": [
    "**José Carlos Ignacio Gonçalves Zart**\n",
    "<br>\n",
    "Current occupation: Sales Executive\n",
    "<br>\n",
    "Desired occupation: Data Scientist"
   ]
  },
  {
   "cell_type": "markdown",
   "metadata": {},
   "source": [
    "*I'm interested in data science because in addition to liking the subject, it's a very relevant area these days. I have an Engineering background and I'm passionate about solving problems using math and logic. I saw that areas like Machine Learning and Deep Learning (included in the Data Science field) involves lots of Algebra and Programming and this is very cool. Also, using these tools to make intelligent decisions make me even more excited in the topic. I currently work with Software Sales and more and more I see the importance of using, manipulating and interpreting Data to make better decisions in Business.*"
   ]
  },
  {
   "cell_type": "markdown",
   "metadata": {},
   "source": [
    "### The code below takes two inputs \"a\" and \"b\", calculates the mean value and print it"
   ]
  },
  {
   "cell_type": "code",
   "execution_count": 5,
   "metadata": {},
   "outputs": [
    {
     "name": "stdout",
     "output_type": "stream",
     "text": [
      "2.5\n"
     ]
    }
   ],
   "source": [
    "a = 1\n",
    "b = 4\n",
    "mean = (a + b)/2\n",
    "print(mean)"
   ]
  },
  {
   "cell_type": "markdown",
   "metadata": {},
   "source": [
    "must include at least 3 of the following: horizontal rule, bulleted list, numbered list, tables, hyperlinks, images, code/syntax highlighting, blocked quotes, strikethrough."
   ]
  },
  {
   "cell_type": "markdown",
   "metadata": {},
   "source": [
    "Bulleted List\n",
    "- item 1\n",
    "- item 2\n",
    "- item 3\n",
    "***\n",
    "Numbered List\n",
    "1. First item\n",
    "1. Second item\n",
    "1. Third item\n",
    "***\n",
    "| First Column | Second Column | Third Column |\n",
    "| --- | --- | --- |\n",
    "| a11 | a12 | a13 |\n",
    "| a21 | a22 | a23 |\n",
    "| a31 | a32 | a33 |\n",
    "***\n",
    "<br>\n",
    "<a href=\"https://www.ibm.com\">IBM Website</a>"
   ]
  },
  {
   "cell_type": "code",
   "execution_count": null,
   "metadata": {},
   "outputs": [],
   "source": []
  }
 ],
 "metadata": {
  "kernelspec": {
   "display_name": "Python 3",
   "language": "python",
   "name": "python3"
  },
  "language_info": {
   "codemirror_mode": {
    "name": "ipython",
    "version": 3
   },
   "file_extension": ".py",
   "mimetype": "text/x-python",
   "name": "python",
   "nbconvert_exporter": "python",
   "pygments_lexer": "ipython3",
   "version": "3.9.0"
  }
 },
 "nbformat": 4,
 "nbformat_minor": 4
}
